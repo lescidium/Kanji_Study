{
 "cells": [
  {
   "cell_type": "code",
   "execution_count": 1,
   "id": "60989357",
   "metadata": {},
   "outputs": [
    {
     "data": {
      "text/plain": [
       "<__main__.kanji at 0x1862cbf7070>"
      ]
     },
     "execution_count": 1,
     "metadata": {},
     "output_type": "execute_result"
    }
   ],
   "source": [
    "class kanji:\n",
    "    def __init__(self,char : str,meaning,reading,examples):\n",
    "        self.char = char\n",
    "        self.meaning = meaning\n",
    "        self.reading = reading\n",
    "        self.examples = examples\n",
    "\n",
    "k = kanji('直','fix','ちょく','直接')\n",
    "\n",
    "#Example 1 (2x2)\n",
    "char = '直'\n",
    "meaning = [['fix','repair'],['direct','straight']]\n",
    "reading = {'on':['ちょく','じき'],'kun':['なお','ただ']}\n",
    "examples = ['直す','直接','正直','直ちに']\n",
    "\n",
    "['fix','repair'] vs ['fix','direct']\n",
    "\n",
    "#Example 1.1 (2x2)\n",
    "char = '突'\n",
    "meaning = [['stab','thrust'],['collision','sudden']]\n",
    "reading = {'on':['じき'],'kun':['なお']}\n",
    "examples = ['直す','直接','正直','直ちに']\n",
    "\n",
    "#Example 2 (2x1) very rare to have two completely diff meanings with one reading. I don't have example\n",
    "#Example 2.1 (2SSx1) the 2SS for meaning is concerning, should it be [['fix'],['direct']] vs ['fix','direct']\n",
    "\n",
    "#Example 3 (1x2)\n",
    "char = '逃'\n",
    "meaning = ['escape','flee']\n",
    "reading = {'on':'とう','kun':['に','のが']}\n",
    "examples = ['逃走','逃亡','逃げる','逃がす','逃す']\n",
    "\n",
    "#Example 4 (1Sx1S)\n",
    "char = '到'\n",
    "meaning = 'arrival'\n",
    "reading = {'on':'とう','kun':None}\n",
    "examples = ['到着','到底','到達']"
   ]
  },
  {
   "cell_type": "code",
   "execution_count": 3,
   "id": "c23361af",
   "metadata": {},
   "outputs": [
    {
     "data": {
      "text/plain": [
       "(50, 64)"
      ]
     },
     "execution_count": 3,
     "metadata": {},
     "output_type": "execute_result"
    }
   ],
   "source": [
    "from sys import getsizeof\n",
    "\n",
    "a = 'a'\n",
    "b = ['a']\n",
    "getsizeof(a),getsizeof(b)"
   ]
  },
  {
   "cell_type": "code",
   "execution_count": null,
   "id": "78391909",
   "metadata": {},
   "outputs": [],
   "source": []
  }
 ],
 "metadata": {
  "kernelspec": {
   "display_name": "Python 3 (ipykernel)",
   "language": "python",
   "name": "python3"
  },
  "language_info": {
   "codemirror_mode": {
    "name": "ipython",
    "version": 3
   },
   "file_extension": ".py",
   "mimetype": "text/x-python",
   "name": "python",
   "nbconvert_exporter": "python",
   "pygments_lexer": "ipython3",
   "version": "3.9.10"
  }
 },
 "nbformat": 4,
 "nbformat_minor": 5
}
